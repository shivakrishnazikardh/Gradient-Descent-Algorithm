{
 "cells": [
  {
   "cell_type": "code",
   "execution_count": 11,
   "metadata": {},
   "outputs": [],
   "source": [
    "import numpy as np\n",
    "from sklearn.linear_model import LinearRegression"
   ]
  },
  {
   "cell_type": "code",
   "execution_count": 7,
   "metadata": {},
   "outputs": [],
   "source": [
    "def step_gd(dt, lrn_rt, m, c) :\n",
    "    c_itr = int(dt.shape[1]) - 1\n",
    "    \n",
    "    \n",
    "    N = len(dt)\n",
    "    \n",
    "    x = dt[:, c_itr]\n",
    "    y = dt[:, -1]\n",
    "    m_sl = (((-2/N) * (y - m*x - c)*x).sum())\n",
    "    c_sl = (((-2/N) * (y - m*x -c)).sum())\n",
    "\n",
    "    \n",
    "    \n",
    "    \n",
    "    \n",
    "    \n",
    "    \n",
    "    nw_m = m - lrn_rt*(m_sl)\n",
    "    nw_c = c - lrn_rt*(c_sl)\n",
    "    \n",
    "    return nw_m, nw_c\n",
    "    "
   ]
  },
  {
   "cell_type": "code",
   "execution_count": 109,
   "metadata": {},
   "outputs": [],
   "source": [
    "def linreg(dt) :\n",
    "    from sklearn.linear_model import LinearRegression\n",
    "    alg = LinearRegression()\n",
    "    lc = int(dt.shape[1]) - 1\n",
    "    x = dt[:, :lc]\n",
    "    y = dt[:, -1]\n",
    "    alg.fit(x ,y)\n",
    "    m = alg.coef_[0]\n",
    "    c = alg.intercept_\n",
    "    return m, c"
   ]
  },
  {
   "cell_type": "code",
   "execution_count": 5,
   "metadata": {},
   "outputs": [],
   "source": [
    "def gd(dt, lrn_rt, itr) :\n",
    "    m, c = linreg(dt)\n",
    "    for i in range(itr) :\n",
    "        m, c = step_gd(dt, lrn_rt, m, c)\n",
    "        #print('Cost : ', cost(dt, m, c))\n",
    "    return m, c"
   ]
  },
  {
   "cell_type": "code",
   "execution_count": 119,
   "metadata": {},
   "outputs": [],
   "source": [
    "def mc() :\n",
    "    import numpy as np\n",
    "    dt = np.genfromtxt('C:/Users/shiva/OneDrive/Documents/Need/Work/Pers/Files/pyt/proj/Gradient desc/training_ccpp_x_y_train.csv', delimiter = ',')\n",
    "    \n",
    "    \n",
    "    lc = int(dt.shape[1]) - 1\n",
    "    sq = []\n",
    "    for i in range(lc) :\n",
    "        sq.append(dt[:,i]**2)\n",
    "    sq = np.array(sq)\n",
    "    for i in range(len(sq)) :\n",
    "        dt = np.insert(dt, (lc,), sq[i, :].reshape(-1,1), axis = 1)\n",
    "        \n",
    "        \n",
    "    lrn_rt = 0.1\n",
    "    itr = 1\n",
    "    m, c = gd(dt, lrn_rt, itr)\n",
    "    return m, c"
   ]
  },
  {
   "cell_type": "code",
   "execution_count": 120,
   "metadata": {},
   "outputs": [
    {
     "name": "stdout",
     "output_type": "stream",
     "text": [
      "1157131.9367927336 -8376.508606956377\n"
     ]
    }
   ],
   "source": [
    "m, c = mc()             #m and c values from training data\n",
    "print(m,c)"
   ]
  },
  {
   "cell_type": "code",
   "execution_count": 79,
   "metadata": {},
   "outputs": [
    {
     "name": "stdout",
     "output_type": "stream",
     "text": [
      "(7176, 5)\n",
      "(1, 1)\n",
      "(7176, 8)\n",
      "(7176,) (7176,)\n",
      "Score :  -4.905935531983412e+23\n",
      "[1.21767539e+13 1.20827580e+13 1.19562377e+13 ... 1.19169614e+13\n",
      " 1.20876518e+13 1.19150245e+13] [482.26 446.94 452.56 ... 437.65 459.97 444.42]\n"
     ]
    }
   ],
   "source": [
    "dt = np.genfromtxt('C:/Users/shiva/OneDrive/Documents/Need/Work/Pers/Files/pyt/proj/Gradient desc/training_ccpp_x_y_train.csv', delimiter = ',')\n",
    "m = m.reshape(1,-1)\n",
    "lc = int(dt.shape[1]) - 1\n",
    "    \n",
    "\n",
    "\n",
    "print(dt.shape)\n",
    "print(m.shape)\n",
    "sq = []\n",
    "for i in range(lc) :\n",
    "    sq.append(dt[:,i]**2)\n",
    "sq = np.array(sq)\n",
    "for i in range(len(sq)) :\n",
    "    dt = np.insert(dt, (lc,), sq[i, :].reshape(-1,1), axis = 1)\n",
    "lc = int(dt.shape[1]) - 1    \n",
    "y_tr = dt[:, -1]\n",
    "x_tr = dt[:, :lc]\n",
    "print(x_tr.shape)\n",
    "y_tr_pr = (m*x_tr).sum(axis=1) + c\n",
    "print(y_tr.shape, y_tr_pr.shape)\n",
    "print('Score : ', score(y_tr, y_tr_pr))\n",
    "print(y_tr_pr, y_tr)"
   ]
  },
  {
   "cell_type": "code",
   "execution_count": 15,
   "metadata": {},
   "outputs": [],
   "source": [
    "\n",
    "def score(y_tr, y_pr) :\n",
    "    u = ((y_tr - y_pr)**2).sum()\n",
    "    v = ((y_tr - y_tr.mean())**2).sum()\n",
    "    return 1 - (u/v)"
   ]
  },
  {
   "cell_type": "code",
   "execution_count": 20,
   "metadata": {},
   "outputs": [
    {
     "name": "stdout",
     "output_type": "stream",
     "text": [
      "(4, 3)\n",
      "[21 12 12]\n"
     ]
    }
   ],
   "source": [
    "lt = [[1,2,3],[4,5,3],[9,0,5],[7,5,1]]\n",
    "lt = np.array(lt)\n",
    "print(lt.shape)\n",
    "print(lt.sum(axis=0))"
   ]
  },
  {
   "cell_type": "code",
   "execution_count": 106,
   "metadata": {},
   "outputs": [
    {
     "name": "stdout",
     "output_type": "stream",
     "text": [
      "[-1839.30187904 -1862.38946708 -1846.29993034 ... -1880.93131241\n",
      " -1839.06262942 -1836.19163401] 0.9287632000440599 [478.75114976 450.5145334  460.63171272 ... 431.87596283 462.74683585\n",
      " 435.68054107] -1.9937468091154364 458.212193916839\n",
      "Score :  -18177.612831838363\n"
     ]
    }
   ],
   "source": [
    "dt = np.genfromtxt('C:/Users/shiva/OneDrive/Documents/Need/Work/Pers/Files/pyt/proj/Gradient desc/training_ccpp_x_y_train.csv', delimiter = ',')\n",
    "m, c, s, xt = linreg(dt)\n",
    "x = dt[:, :4]\n",
    "y = dt[:, -1]\n",
    "y_predict = (m*(x).sum(axis=1)) + c\n",
    "print(y_predict, s, xt, m, c)\n",
    "print('Score : ', score(y, y_predict))"
   ]
  },
  {
   "cell_type": "code",
   "execution_count": 129,
   "metadata": {},
   "outputs": [
    {
     "name": "stdout",
     "output_type": "stream",
     "text": [
      "[7 7]\n"
     ]
    }
   ],
   "source": [
    "z = np.array([7])\n",
    "z = np.insert(z, (0,), z, axis = 0)\n",
    "print(z)"
   ]
  }
 ],
 "metadata": {
  "kernelspec": {
   "display_name": "Python 3",
   "language": "python",
   "name": "python3"
  },
  "language_info": {
   "codemirror_mode": {
    "name": "ipython",
    "version": 3
   },
   "file_extension": ".py",
   "mimetype": "text/x-python",
   "name": "python",
   "nbconvert_exporter": "python",
   "pygments_lexer": "ipython3",
   "version": "3.8.5"
  }
 },
 "nbformat": 4,
 "nbformat_minor": 4
}
