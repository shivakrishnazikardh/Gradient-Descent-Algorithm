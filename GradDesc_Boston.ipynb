{
 "cells": [
  {
   "cell_type": "code",
   "execution_count": 5,
   "metadata": {},
   "outputs": [],
   "source": [
    "import numpy as np"
   ]
  },
  {
   "cell_type": "code",
   "execution_count": 6,
   "metadata": {},
   "outputs": [],
   "source": [
    "def step_gd(dt, lrn_rt, m, c) :\n",
    "    c_itr = int(dt.shape[1]) - 1\n",
    "    m_sl, c_sl = [], []\n",
    "    N = len(dt)\n",
    "    for i in range(c_itr) :\n",
    "        x = dt[:, i]\n",
    "        y = dt[:, -1]\n",
    "        m_sl.append(((-2/N) * (y - m[i]*x - c)*x).sum())\n",
    "        c_sl.append(((-2/N) * (y - m[i]*x -c)).sum())\n",
    "        \n",
    "    \n",
    "    \n",
    "    m_sl = np.array(m_sl)\n",
    "    c_sl = np.array(c_sl)\n",
    "    \n",
    "    nw_m = m - lrn_rt*(m_sl)\n",
    "    nw_c = c - lrn_rt*(c_sl.sum())\n",
    "    \n",
    "    return nw_m, nw_c\n",
    "    "
   ]
  },
  {
   "cell_type": "code",
   "execution_count": 29,
   "metadata": {},
   "outputs": [],
   "source": [
    "def gd(dt, lrn_rt, itr) :\n",
    "    m, c = np.zeros(26), 0\n",
    "    for i in range(itr) :\n",
    "        m, c = step_gd(dt, lrn_rt, m, c)\n",
    "        #print('Cost : ', cost(dt, m, c))\n",
    "    return m, c"
   ]
  },
  {
   "cell_type": "code",
   "execution_count": 30,
   "metadata": {},
   "outputs": [],
   "source": [
    "def mc() :\n",
    "    import numpy as np\n",
    "    dt = np.genfromtxt('Gradient desc/training_boston_x_y_train.csv', delimiter = ',')\n",
    "    lc = int(dt.shape[1]) - 1\n",
    "    \n",
    "    sq = []\n",
    "    for i in range(lc) :\n",
    "        sq.append(dt[:,i]**2)\n",
    "    sq = np.array(sq)\n",
    "    for i in range(len(sq)) :\n",
    "        dt = np.insert(dt,(lc,), sq[i, :].reshape(-1,1), axis = 1)\n",
    "    lrn_rt = 0.00010299999\n",
    "    itr = 1150\n",
    "    m, c = gd(dt, lrn_rt, itr)\n",
    "    return m, c"
   ]
  },
  {
   "cell_type": "code",
   "execution_count": 31,
   "metadata": {},
   "outputs": [
    {
     "name": "stdout",
     "output_type": "stream",
     "text": [
      "[-0.75174879  0.6251041  -0.94208474  0.37965147 -0.80261026  1.35568665\n",
      " -0.66863318  0.47046146 -0.67433382 -0.8649082  -0.96325109  0.64777323\n",
      " -1.4744111   0.06584406 -0.61477258  1.11562141  0.18597899 -0.07145196\n",
      "  0.54101806  0.81595731  1.45304913  0.09928797  0.49506781  0.60660108\n",
      "  0.83007351 -0.245397  ] 22.340538899882798\n"
     ]
    }
   ],
   "source": [
    "m, c = mc()             #m and c values from training data\n",
    "print(m,c)"
   ]
  },
  {
   "cell_type": "code",
   "execution_count": 37,
   "metadata": {},
   "outputs": [
    {
     "name": "stdout",
     "output_type": "stream",
     "text": [
      "(127, 13)\n",
      "(127, 26)\n"
     ]
    }
   ],
   "source": [
    "x_test = np.genfromtxt('Gradient desc/test_boston_x_test.csv', delimiter = ',')\n",
    "m = m.reshape(1,-1)\n",
    "print(x_test.shape)\n",
    "lc = int(x_test.shape[1])\n",
    "\n",
    "sq = []\n",
    "for i in range(lc) :\n",
    "    sq.append(x_test[:,i]**2)\n",
    "sq = np.array(sq)\n",
    "for i in range(len(sq)) :\n",
    "    x_test = np.insert(x_test,(lc,), sq[i, :].reshape(-1,1), axis = 1)\n",
    "print(x_test.shape)\n",
    "y_pred = ((m*x_test).sum(axis = 1) + c)\n",
    "np.savetxt('PredictionsBoston3.csv', y_pred, fmt ='%1.1f')"
   ]
  }
 ],
 "metadata": {
  "kernelspec": {
   "display_name": "Python 3",
   "language": "python",
   "name": "python3"
  },
  "language_info": {
   "codemirror_mode": {
    "name": "ipython",
    "version": 3
   },
   "file_extension": ".py",
   "mimetype": "text/x-python",
   "name": "python",
   "nbconvert_exporter": "python",
   "pygments_lexer": "ipython3",
   "version": "3.8.5"
  }
 },
 "nbformat": 4,
 "nbformat_minor": 4
}
