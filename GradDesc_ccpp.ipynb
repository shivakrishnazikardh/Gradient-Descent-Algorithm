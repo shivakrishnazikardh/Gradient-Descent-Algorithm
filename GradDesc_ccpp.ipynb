{
 "cells": [
  {
   "cell_type": "code",
   "execution_count": 1,
   "metadata": {},
   "outputs": [],
   "source": [
    "import numpy as np"
   ]
  },
  {
   "cell_type": "code",
   "execution_count": 2,
   "metadata": {},
   "outputs": [],
   "source": [
    "def step_gd(dt, lrn_rt, m, c) :\n",
    "    c_itr = int(dt.shape[1]) - 1\n",
    "    \n",
    "    m_sl, c_sl = [], []\n",
    "    N = len(dt)\n",
    "    for i in range(c_itr) :\n",
    "        x = dt[:, i]\n",
    "        y = dt[:, -1]\n",
    "        m_sl.append(((-2/N) * (y - m[i]*x - c)*x).sum())\n",
    "        c_sl.append(((-2/N) * (y - m[i]*x -c)).sum())\n",
    "        \n",
    "    \n",
    "    \n",
    "    m_sl = np.array(m_sl)\n",
    "    c_sl = np.array(c_sl)\n",
    "    \n",
    "    \n",
    "    \n",
    "    nw_m = m - lrn_rt*(m_sl)\n",
    "    nw_c = c - lrn_rt*(c_sl.sum())\n",
    "    \n",
    "    return nw_m, nw_c\n",
    "    "
   ]
  },
  {
   "cell_type": "code",
   "execution_count": 4,
   "metadata": {},
   "outputs": [],
   "source": [
    "def gd(dt, lrn_rt, itr) :\n",
    "    m, c = np.zeros(4), 0\n",
    "    for i in range(itr) :\n",
    "        m, c = step_gd(dt, lrn_rt, m, c)\n",
    "        #print('Cost : ', cost(dt, m, c))\n",
    "    return m, c"
   ]
  },
  {
   "cell_type": "code",
   "execution_count": 290,
   "metadata": {},
   "outputs": [],
   "source": [
    "def mc() :\n",
    "    import numpy as np\n",
    "    dt = np.genfromtxt('C:/Users/shiva/OneDrive/Documents/Need/Work/Pers/Files/pyt/proj/Gradient desc/training_ccpp_x_y_train.csv', delimiter = ',')\n",
    "\n",
    "    lrn_rt = 0.00000010000991\n",
    "    \n",
    "    itr = 16\n",
    "    m, c = gd(dt, lrn_rt, itr)\n",
    "    return m, c"
   ]
  },
  {
   "cell_type": "code",
   "execution_count": 291,
   "metadata": {},
   "outputs": [
    {
     "name": "stdout",
     "output_type": "stream",
     "text": [
      "[0.02814046 0.07797975 0.4371804  0.10599082] 0.004775397087344445\n"
     ]
    }
   ],
   "source": [
    "m, c = mc()             #m and c values from training data\n",
    "print(m,c)"
   ]
  },
  {
   "cell_type": "code",
   "execution_count": 293,
   "metadata": {},
   "outputs": [
    {
     "name": "stdout",
     "output_type": "stream",
     "text": [
      "(7176, 5)\n",
      "(7176,) (7176,)\n",
      "Score :  0.07591230508962443\n",
      "[458.55582816 456.93447504 454.86546819 ... 454.38472681 456.46734297\n",
      " 452.62712213] [482.26 446.94 452.56 ... 437.65 459.97 444.42]\n"
     ]
    }
   ],
   "source": [
    "dt = np.genfromtxt('C:/Users/shiva/OneDrive/Documents/Need/Work/Pers/Files/pyt/proj/Gradient desc/training_ccpp_x_y_train.csv', delimiter = ',')\n",
    "m = m.reshape(1,-1)\n",
    "y_tr = dt[:, -1]\n",
    "x_tr = dt[:, :4]\n",
    "print(dt.shape)\n",
    "y_tr_pr = (m*x_tr).sum(axis=1) + c\n",
    "print(y_tr.shape, y_tr_pr.shape)\n",
    "print('Score : ', score(y_tr, y_tr_pr))\n",
    "print(y_tr_pr, y_tr)"
   ]
  },
  {
   "cell_type": "code",
   "execution_count": 294,
   "metadata": {},
   "outputs": [],
   "source": [
    "\n",
    "def score(y_tr, y_pr) :\n",
    "    u = ((y_tr - y_pr)**2).sum()\n",
    "    v = ((y_tr - y_tr.mean())**2).sum()\n",
    "    print(u/v)\n",
    "    return 1 - (u/v)"
   ]
  },
  {
   "cell_type": "code",
   "execution_count": 295,
   "metadata": {},
   "outputs": [
    {
     "name": "stdout",
     "output_type": "stream",
     "text": [
      "(2392, 4)\n",
      "(1, 4)\n"
     ]
    }
   ],
   "source": [
    "x_test = np.genfromtxt('C:/Users/shiva/OneDrive/Documents/Need/Work/Pers/Files/pyt/proj/Gradient desc/test_ccpp_x_test.csv', delimiter = ',')\n",
    "\n",
    "lc = int(x_test.shape[1])\n",
    "print(x_test.shape)\n",
    "print(m.shape)\n",
    "    \n",
    "\n",
    "\n",
    "\n",
    "y_tr_pr = (m*x_test).sum(axis=1) + c\n",
    "\n",
    "np.savetxt('Predictionsccpp1.csv', y_tr_pr, fmt = '%1.2f')"
   ]
  }
 ],
 "metadata": {
  "kernelspec": {
   "display_name": "Python 3",
   "language": "python",
   "name": "python3"
  },
  "language_info": {
   "codemirror_mode": {
    "name": "ipython",
    "version": 3
   },
   "file_extension": ".py",
   "mimetype": "text/x-python",
   "name": "python",
   "nbconvert_exporter": "python",
   "pygments_lexer": "ipython3",
   "version": "3.8.5"
  }
 },
 "nbformat": 4,
 "nbformat_minor": 4
}
