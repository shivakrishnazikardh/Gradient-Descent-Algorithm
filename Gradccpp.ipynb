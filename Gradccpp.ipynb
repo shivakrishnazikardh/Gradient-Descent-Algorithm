{
 "cells": [
  {
   "cell_type": "code",
   "execution_count": 3,
   "metadata": {},
   "outputs": [],
   "source": [
    "import numpy as np"
   ]
  },
  {
   "cell_type": "code",
   "execution_count": 15,
   "metadata": {},
   "outputs": [],
   "source": [
    "def step_gd(dt, lrn_rt, m, c) :\n",
    "    c_itr = int(dt.shape[1]) - 1\n",
    "    \n",
    "    m_sl, c_sl = [], []\n",
    "    N = len(dt)\n",
    "    for i in range(c_itr) :\n",
    "        x = dt[:, i]\n",
    "        y = dt[:, -1]\n",
    "        print(x.shape, y.shape, m.shape, c.shape)\n",
    "        m_sl.append(((-2/N) * (y - m[i]*x - c)*x).sum())\n",
    "        c_sl.append(((-2/N) * (y - m[i]*x -c)).sum())\n",
    "        \n",
    "    \n",
    "    \n",
    "    m_sl = np.array(m_sl)\n",
    "    c_sl = np.array(c_sl)\n",
    "    \n",
    "    \n",
    "    \n",
    "    nw_m = m - lrn_rt*(m_sl)\n",
    "    nw_c = c - lrn_rt*(c_sl.sum())\n",
    "    \n",
    "    return nw_m, nw_c\n",
    "    "
   ]
  },
  {
   "cell_type": "code",
   "execution_count": 9,
   "metadata": {},
   "outputs": [],
   "source": [
    "def linreg(dt) :\n",
    "    from sklearn.linear_model import LinearRegression\n",
    "    alg = LinearRegression()\n",
    "    lc = int(dt.shape[1]) - 1\n",
    "    x = dt[:, :lc]\n",
    "    y = dt[:, -1]\n",
    "    alg.fit(x ,y)\n",
    "    m = alg.coef_[0]\n",
    "    c = alg.intercept_\n",
    "    return m, c"
   ]
  },
  {
   "cell_type": "code",
   "execution_count": 6,
   "metadata": {},
   "outputs": [],
   "source": [
    "def gd(dt, lrn_rt, itr) :\n",
    "    m, c = linreg(dt)\n",
    "    for i in range(itr) :\n",
    "        m, c = step_gd(dt, lrn_rt, m, c)\n",
    "        #print('Cost : ', cost(dt, m, c))\n",
    "    return m, c"
   ]
  },
  {
   "cell_type": "code",
   "execution_count": 7,
   "metadata": {},
   "outputs": [],
   "source": [
    "def mc() :\n",
    "    import numpy as np\n",
    "    dt = np.genfromtxt('C:/Users/shiva/OneDrive/Documents/Need/Work/Pers/Files/pyt/proj/Gradient desc/training_ccpp_x_y_train.csv', delimiter = ',')\n",
    "    lc = int(dt.shape[1]) - 1\n",
    "    \n",
    "    sq = []\n",
    "    for i in range(lc) :\n",
    "        sq.append(dt[:,i]**2)\n",
    "    sq = np.array(sq)\n",
    "    for i in range(len(sq)) :\n",
    "        dt = np.insert(dt, (lc,), sq[i, :].reshape(-1,1), axis = 1)\n",
    "    lrn_rt = 1\n",
    "    itr = 100\n",
    "    m, c = gd(dt, lrn_rt, itr)\n",
    "    return m, c"
   ]
  },
  {
   "cell_type": "code",
   "execution_count": 14,
   "metadata": {},
   "outputs": [
    {
     "name": "stdout",
     "output_type": "stream",
     "text": [
      "(7176,) (7176,) () ()\n",
      "(7176,) (7176,) () ()\n",
      "(7176,) (7176,) () ()\n",
      "(7176,) (7176,) () ()\n",
      "(7176,) (7176,) () ()\n",
      "(7176,) (7176,) () ()\n",
      "(7176,) (7176,) () ()\n",
      "(7176,) (7176,) () ()\n",
      "(7176,) (7176,) (8,) ()\n"
     ]
    },
    {
     "ename": "ValueError",
     "evalue": "operands could not be broadcast together with shapes (8,) (7176,) ",
     "output_type": "error",
     "traceback": [
      "\u001b[1;31m---------------------------------------------------------------------------\u001b[0m",
      "\u001b[1;31mValueError\u001b[0m                                Traceback (most recent call last)",
      "\u001b[1;32m<ipython-input-14-073c74e622d5>\u001b[0m in \u001b[0;36m<module>\u001b[1;34m\u001b[0m\n\u001b[1;32m----> 1\u001b[1;33m \u001b[0mm\u001b[0m\u001b[1;33m,\u001b[0m \u001b[0mc\u001b[0m \u001b[1;33m=\u001b[0m \u001b[0mmc\u001b[0m\u001b[1;33m(\u001b[0m\u001b[1;33m)\u001b[0m             \u001b[1;31m#m and c values from training data\u001b[0m\u001b[1;33m\u001b[0m\u001b[1;33m\u001b[0m\u001b[0m\n\u001b[0m\u001b[0;32m      2\u001b[0m \u001b[0mprint\u001b[0m\u001b[1;33m(\u001b[0m\u001b[0mm\u001b[0m\u001b[1;33m,\u001b[0m\u001b[0mc\u001b[0m\u001b[1;33m)\u001b[0m\u001b[1;33m\u001b[0m\u001b[1;33m\u001b[0m\u001b[0m\n",
      "\u001b[1;32m<ipython-input-7-5daa7eb6c488>\u001b[0m in \u001b[0;36mmc\u001b[1;34m()\u001b[0m\n\u001b[0;32m     12\u001b[0m     \u001b[0mlrn_rt\u001b[0m \u001b[1;33m=\u001b[0m \u001b[1;36m1\u001b[0m\u001b[1;33m\u001b[0m\u001b[1;33m\u001b[0m\u001b[0m\n\u001b[0;32m     13\u001b[0m     \u001b[0mitr\u001b[0m \u001b[1;33m=\u001b[0m \u001b[1;36m100\u001b[0m\u001b[1;33m\u001b[0m\u001b[1;33m\u001b[0m\u001b[0m\n\u001b[1;32m---> 14\u001b[1;33m     \u001b[0mm\u001b[0m\u001b[1;33m,\u001b[0m \u001b[0mc\u001b[0m \u001b[1;33m=\u001b[0m \u001b[0mgd\u001b[0m\u001b[1;33m(\u001b[0m\u001b[0mdt\u001b[0m\u001b[1;33m,\u001b[0m \u001b[0mlrn_rt\u001b[0m\u001b[1;33m,\u001b[0m \u001b[0mitr\u001b[0m\u001b[1;33m)\u001b[0m\u001b[1;33m\u001b[0m\u001b[1;33m\u001b[0m\u001b[0m\n\u001b[0m\u001b[0;32m     15\u001b[0m     \u001b[1;32mreturn\u001b[0m \u001b[0mm\u001b[0m\u001b[1;33m,\u001b[0m \u001b[0mc\u001b[0m\u001b[1;33m\u001b[0m\u001b[1;33m\u001b[0m\u001b[0m\n",
      "\u001b[1;32m<ipython-input-6-7a91421cc202>\u001b[0m in \u001b[0;36mgd\u001b[1;34m(dt, lrn_rt, itr)\u001b[0m\n\u001b[0;32m      2\u001b[0m     \u001b[0mm\u001b[0m\u001b[1;33m,\u001b[0m \u001b[0mc\u001b[0m \u001b[1;33m=\u001b[0m \u001b[0mlinreg\u001b[0m\u001b[1;33m(\u001b[0m\u001b[0mdt\u001b[0m\u001b[1;33m)\u001b[0m\u001b[1;33m\u001b[0m\u001b[1;33m\u001b[0m\u001b[0m\n\u001b[0;32m      3\u001b[0m     \u001b[1;32mfor\u001b[0m \u001b[0mi\u001b[0m \u001b[1;32min\u001b[0m \u001b[0mrange\u001b[0m\u001b[1;33m(\u001b[0m\u001b[0mitr\u001b[0m\u001b[1;33m)\u001b[0m \u001b[1;33m:\u001b[0m\u001b[1;33m\u001b[0m\u001b[1;33m\u001b[0m\u001b[0m\n\u001b[1;32m----> 4\u001b[1;33m         \u001b[0mm\u001b[0m\u001b[1;33m,\u001b[0m \u001b[0mc\u001b[0m \u001b[1;33m=\u001b[0m \u001b[0mstep_gd\u001b[0m\u001b[1;33m(\u001b[0m\u001b[0mdt\u001b[0m\u001b[1;33m,\u001b[0m \u001b[0mlrn_rt\u001b[0m\u001b[1;33m,\u001b[0m \u001b[0mm\u001b[0m\u001b[1;33m,\u001b[0m \u001b[0mc\u001b[0m\u001b[1;33m)\u001b[0m\u001b[1;33m\u001b[0m\u001b[1;33m\u001b[0m\u001b[0m\n\u001b[0m\u001b[0;32m      5\u001b[0m         \u001b[1;31m#print('Cost : ', cost(dt, m, c))\u001b[0m\u001b[1;33m\u001b[0m\u001b[1;33m\u001b[0m\u001b[1;33m\u001b[0m\u001b[0m\n\u001b[0;32m      6\u001b[0m     \u001b[1;32mreturn\u001b[0m \u001b[0mm\u001b[0m\u001b[1;33m,\u001b[0m \u001b[0mc\u001b[0m\u001b[1;33m\u001b[0m\u001b[1;33m\u001b[0m\u001b[0m\n",
      "\u001b[1;32m<ipython-input-13-be5073254165>\u001b[0m in \u001b[0;36mstep_gd\u001b[1;34m(dt, lrn_rt, m, c)\u001b[0m\n\u001b[0;32m      8\u001b[0m         \u001b[0my\u001b[0m \u001b[1;33m=\u001b[0m \u001b[0mdt\u001b[0m\u001b[1;33m[\u001b[0m\u001b[1;33m:\u001b[0m\u001b[1;33m,\u001b[0m \u001b[1;33m-\u001b[0m\u001b[1;36m1\u001b[0m\u001b[1;33m]\u001b[0m\u001b[1;33m\u001b[0m\u001b[1;33m\u001b[0m\u001b[0m\n\u001b[0;32m      9\u001b[0m         \u001b[0mprint\u001b[0m\u001b[1;33m(\u001b[0m\u001b[0mx\u001b[0m\u001b[1;33m.\u001b[0m\u001b[0mshape\u001b[0m\u001b[1;33m,\u001b[0m \u001b[0my\u001b[0m\u001b[1;33m.\u001b[0m\u001b[0mshape\u001b[0m\u001b[1;33m,\u001b[0m \u001b[0mm\u001b[0m\u001b[1;33m.\u001b[0m\u001b[0mshape\u001b[0m\u001b[1;33m,\u001b[0m \u001b[0mc\u001b[0m\u001b[1;33m.\u001b[0m\u001b[0mshape\u001b[0m\u001b[1;33m)\u001b[0m\u001b[1;33m\u001b[0m\u001b[1;33m\u001b[0m\u001b[0m\n\u001b[1;32m---> 10\u001b[1;33m         \u001b[0mm_sl\u001b[0m\u001b[1;33m.\u001b[0m\u001b[0mappend\u001b[0m\u001b[1;33m(\u001b[0m\u001b[1;33m(\u001b[0m\u001b[1;33m(\u001b[0m\u001b[1;33m-\u001b[0m\u001b[1;36m2\u001b[0m\u001b[1;33m/\u001b[0m\u001b[0mN\u001b[0m\u001b[1;33m)\u001b[0m \u001b[1;33m*\u001b[0m \u001b[1;33m(\u001b[0m\u001b[0my\u001b[0m \u001b[1;33m-\u001b[0m \u001b[0mm\u001b[0m\u001b[1;33m*\u001b[0m\u001b[0mx\u001b[0m \u001b[1;33m-\u001b[0m \u001b[0mc\u001b[0m\u001b[1;33m)\u001b[0m\u001b[1;33m*\u001b[0m\u001b[0mx\u001b[0m\u001b[1;33m)\u001b[0m\u001b[1;33m.\u001b[0m\u001b[0msum\u001b[0m\u001b[1;33m(\u001b[0m\u001b[1;33m)\u001b[0m\u001b[1;33m)\u001b[0m\u001b[1;33m\u001b[0m\u001b[1;33m\u001b[0m\u001b[0m\n\u001b[0m\u001b[0;32m     11\u001b[0m         \u001b[0mc_sl\u001b[0m\u001b[1;33m.\u001b[0m\u001b[0mappend\u001b[0m\u001b[1;33m(\u001b[0m\u001b[1;33m(\u001b[0m\u001b[1;33m(\u001b[0m\u001b[1;33m-\u001b[0m\u001b[1;36m2\u001b[0m\u001b[1;33m/\u001b[0m\u001b[0mN\u001b[0m\u001b[1;33m)\u001b[0m \u001b[1;33m*\u001b[0m \u001b[1;33m(\u001b[0m\u001b[0my\u001b[0m \u001b[1;33m-\u001b[0m \u001b[0mm\u001b[0m\u001b[1;33m*\u001b[0m\u001b[0mx\u001b[0m \u001b[1;33m-\u001b[0m\u001b[0mc\u001b[0m\u001b[1;33m)\u001b[0m\u001b[1;33m)\u001b[0m\u001b[1;33m.\u001b[0m\u001b[0msum\u001b[0m\u001b[1;33m(\u001b[0m\u001b[1;33m)\u001b[0m\u001b[1;33m)\u001b[0m\u001b[1;33m\u001b[0m\u001b[1;33m\u001b[0m\u001b[0m\n\u001b[0;32m     12\u001b[0m \u001b[1;33m\u001b[0m\u001b[0m\n",
      "\u001b[1;31mValueError\u001b[0m: operands could not be broadcast together with shapes (8,) (7176,) "
     ]
    }
   ],
   "source": [
    "m, c = mc()             #m and c values from training data\n",
    "print(m,c)"
   ]
  },
  {
   "cell_type": "code",
   "execution_count": 272,
   "metadata": {},
   "outputs": [
    {
     "name": "stdout",
     "output_type": "stream",
     "text": [
      "(7176, 5)\n",
      "(1, 8)\n",
      "(7176, 9)\n",
      "(7176,) (7176,)\n",
      "Score :  -2.2293292910026308e+255\n",
      "[-8.21329662e+128 -8.15195444e+128 -8.06148798e+128 ... -8.02661961e+128\n",
      " -8.16365913e+128 -8.04778637e+128] [482.26 446.94 452.56 ... 437.65 459.97 444.42]\n"
     ]
    }
   ],
   "source": [
    "dt = np.genfromtxt('C:/Users/shiva/OneDrive/Documents/Need/Work/Pers/Files/pyt/proj/Gradient desc/training_ccpp_x_y_train.csv', delimiter = ',')\n",
    "m = m.reshape(1,-1)\n",
    "lc = int(dt.shape[1]) - 1\n",
    "    \n",
    "\n",
    "\n",
    "print(dt.shape)\n",
    "print(m.shape)\n",
    "sq = []\n",
    "for i in range(lc) :\n",
    "    sq.append(dt[:,i]**2)\n",
    "sq = np.array(sq)\n",
    "for i in range(len(sq)) :\n",
    "    dt = np.insert(dt, (lc,), sq[i, :].reshape(-1,1), axis = 1)\n",
    "    \n",
    "y_tr = dt[:, -1]\n",
    "x_tr = dt[:, :8]\n",
    "print(dt.shape)\n",
    "y_tr_pr = (m*x_tr).sum(axis=1) + c\n",
    "print(y_tr.shape, y_tr_pr.shape)\n",
    "print('Score : ', score(y_tr, y_tr_pr))\n",
    "print(y_tr_pr, y_tr)"
   ]
  },
  {
   "cell_type": "code",
   "execution_count": 183,
   "metadata": {},
   "outputs": [],
   "source": [
    "\n",
    "def score(y_tr, y_pr) :\n",
    "    u = ((y_tr - y_pr)**2).sum()\n",
    "    v = ((y_tr - y_tr.mean())**2).sum()\n",
    "    return 1 - (u/v)"
   ]
  },
  {
   "cell_type": "code",
   "execution_count": 181,
   "metadata": {},
   "outputs": [
    {
     "name": "stdout",
     "output_type": "stream",
     "text": [
      "(2392, 4)\n",
      "(1, 4)\n"
     ]
    }
   ],
   "source": []
  },
  {
   "cell_type": "code",
   "execution_count": null,
   "metadata": {},
   "outputs": [],
   "source": [
    "        sq = []\n",
    "for i in range(lc) :\n",
    "    sq.append(x_test[:,i]**2)\n",
    "sq = np.array(sq)\n",
    "for i in range(len(sq)) :\n",
    "    x_test = np.insert(x_test, (lc,), sq[i, :].reshape(-1,1), axis = 1)"
   ]
  }
 ],
 "metadata": {
  "kernelspec": {
   "display_name": "Python 3",
   "language": "python",
   "name": "python3"
  },
  "language_info": {
   "codemirror_mode": {
    "name": "ipython",
    "version": 3
   },
   "file_extension": ".py",
   "mimetype": "text/x-python",
   "name": "python",
   "nbconvert_exporter": "python",
   "pygments_lexer": "ipython3",
   "version": "3.8.5"
  }
 },
 "nbformat": 4,
 "nbformat_minor": 4
}
